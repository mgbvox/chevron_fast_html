{
 "cells": [
  {
   "cell_type": "code",
   "execution_count": 1,
   "id": "initial_id",
   "metadata": {
    "collapsed": true,
    "ExecuteTime": {
     "end_time": "2023-11-15T22:21:16.419285Z",
     "start_time": "2023-11-15T22:21:15.921274Z"
    }
   },
   "outputs": [],
   "source": [
    "import numpy as np"
   ]
  },
  {
   "cell_type": "code",
   "execution_count": 3,
   "outputs": [],
   "source": [
    "import pandas as pd"
   ],
   "metadata": {
    "collapsed": false,
    "ExecuteTime": {
     "end_time": "2023-11-15T22:21:37.837559Z",
     "start_time": "2023-11-15T22:21:33.162140Z"
    }
   },
   "id": "6561c8afa35b4cca"
  },
  {
   "cell_type": "code",
   "execution_count": 4,
   "outputs": [
    {
     "data": {
      "text/plain": "          0         1         2         3         4\n0  0.463328  0.505058  0.239920  0.781477  0.493633\n1  0.511560  0.009407  0.326836  0.428514  0.257186\n2  0.466174  0.510375  0.790201  0.850249  0.102594\n3  0.748468  0.983546  0.135020  0.772027  0.282801\n4  0.877025  0.290543  0.406428  0.077575  0.221971",
      "text/html": "<div>\n<style scoped>\n    .dataframe tbody tr th:only-of-type {\n        vertical-align: middle;\n    }\n\n    .dataframe tbody tr th {\n        vertical-align: top;\n    }\n\n    .dataframe thead th {\n        text-align: right;\n    }\n</style>\n<table border=\"1\" class=\"dataframe\">\n  <thead>\n    <tr style=\"text-align: right;\">\n      <th></th>\n      <th>0</th>\n      <th>1</th>\n      <th>2</th>\n      <th>3</th>\n      <th>4</th>\n    </tr>\n  </thead>\n  <tbody>\n    <tr>\n      <th>0</th>\n      <td>0.463328</td>\n      <td>0.505058</td>\n      <td>0.239920</td>\n      <td>0.781477</td>\n      <td>0.493633</td>\n    </tr>\n    <tr>\n      <th>1</th>\n      <td>0.511560</td>\n      <td>0.009407</td>\n      <td>0.326836</td>\n      <td>0.428514</td>\n      <td>0.257186</td>\n    </tr>\n    <tr>\n      <th>2</th>\n      <td>0.466174</td>\n      <td>0.510375</td>\n      <td>0.790201</td>\n      <td>0.850249</td>\n      <td>0.102594</td>\n    </tr>\n    <tr>\n      <th>3</th>\n      <td>0.748468</td>\n      <td>0.983546</td>\n      <td>0.135020</td>\n      <td>0.772027</td>\n      <td>0.282801</td>\n    </tr>\n    <tr>\n      <th>4</th>\n      <td>0.877025</td>\n      <td>0.290543</td>\n      <td>0.406428</td>\n      <td>0.077575</td>\n      <td>0.221971</td>\n    </tr>\n  </tbody>\n</table>\n</div>"
     },
     "execution_count": 4,
     "metadata": {},
     "output_type": "execute_result"
    }
   ],
   "source": [
    "pd.DataFrame.from_records(np.random.random((5,5)))"
   ],
   "metadata": {
    "collapsed": false,
    "ExecuteTime": {
     "end_time": "2023-11-15T22:21:40.385602Z",
     "start_time": "2023-11-15T22:21:40.323453Z"
    }
   },
   "id": "ef86c18d10301cd2"
  },
  {
   "cell_type": "code",
   "execution_count": null,
   "outputs": [],
   "source": [],
   "metadata": {
    "collapsed": false
   },
   "id": "4a3f9a698349fb7b"
  }
 ],
 "metadata": {
  "kernelspec": {
   "display_name": "Python 3",
   "language": "python",
   "name": "python3"
  },
  "language_info": {
   "codemirror_mode": {
    "name": "ipython",
    "version": 2
   },
   "file_extension": ".py",
   "mimetype": "text/x-python",
   "name": "python",
   "nbconvert_exporter": "python",
   "pygments_lexer": "ipython2",
   "version": "2.7.6"
  }
 },
 "nbformat": 4,
 "nbformat_minor": 5
}
